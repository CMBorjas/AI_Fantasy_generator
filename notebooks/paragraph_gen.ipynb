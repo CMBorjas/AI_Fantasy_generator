{
 "cells": [
  {
   "cell_type": "markdown",
   "metadata": {},
   "source": [
    "# Fantasy generator"
   ]
  },
  {
   "cell_type": "markdown",
   "metadata": {},
   "source": [
    "### 0.1: Load imports for all the program cells"
   ]
  },
  {
   "cell_type": "code",
   "execution_count": 10,
   "metadata": {},
   "outputs": [],
   "source": [
    "import re\n",
    "import os\n",
    "import pandas as pd\n",
    "# Add this to data_preprocessing.py\n",
    "from transformers import GPT2Tokenizer, GPT2LMHeadModel, GPT2Tokenizer, Trainer, TrainingArguments\n",
    "import torch\n",
    "from torch.utils.data import Dataset, DataLoader, Subset\n",
    "# Create train and eval datasets (as done previously if splitting)\n",
    "from sklearn.model_selection import train_test_split\n",
    "import pickle\n",
    "import matplotlib.pyplot as plt\n",
    "from collections import Counter\n",
    "import plotly.express as px\n",
    "import hashlib\n",
    "import json\n",
    "import time\n",
    "import string\n",
    "from collections import Counter\n",
    "from transformers import GPT2Tokenizer\n",
    "import matplotlib.pyplot as plt\n",
    "import string\n"
   ]
  },
  {
   "cell_type": "markdown",
   "metadata": {},
   "source": [
    "## 1: Load the files"
   ]
  },
  {
   "cell_type": "markdown",
   "metadata": {},
   "source": [
    "#### 1.1: Paths"
   ]
  },
  {
   "cell_type": "code",
   "execution_count": 11,
   "metadata": {},
   "outputs": [],
   "source": [
    "start_time = time.time()\n",
    "raw_data_path = \"../data/external/dataset_name/\"\n",
    "processed_data_path = \"../data/processed/\"\n",
    "tokenized_data_path = \"../data/processed/tokenized_dialogues.pkl\"\n",
    "timestamp_path = \"./data_update_timestamp.txt\"\n",
    "os.makedirs(processed_data_path, exist_ok=True)"
   ]
  },
  {
   "cell_type": "code",
   "execution_count": 12,
   "metadata": {},
   "outputs": [
    {
     "name": "stdout",
     "output_type": "stream",
     "text": [
      "No new data detected. Skipping data processing...\n"
     ]
    }
   ],
   "source": [
    "# Function to check if new data exists\n",
    "def is_new_data(data_path, timestamp_file):\n",
    "    # Get the latest modification time of files in the dataset\n",
    "    latest_mod_time = max(os.path.getmtime(os.path.join(root, file))\n",
    "                            for root, _, files in os.walk(data_path) for file in files)\n",
    "    # Compare with saved timestamp\n",
    "    if os.path.exists(timestamp_file):\n",
    "        with open(timestamp_file, \"r\") as f:\n",
    "            last_processed_time = float(f.read())\n",
    "    else:\n",
    "        last_processed_time = 0\n",
    "    # Save new timestamp if new data exists\n",
    "    if latest_mod_time > last_processed_time:\n",
    "        with open(timestamp_file, \"w\") as f:\n",
    "            f.write(str(latest_mod_time))\n",
    "        return True\n",
    "    return False\n",
    "\n",
    "# Initialize process_data based on whether new data exists\n",
    "if is_new_data(raw_data_path, timestamp_path):\n",
    "    print(\"New data detected. Proceeding with data processing...\")\n",
    "    process_data = True\n",
    "else:\n",
    "    print(\"No new data detected. Skipping data processing...\")\n",
    "    process_data = False\n",
    "\n",
    "\n",
    "# Example: After processing data\n",
    "if process_data:\n",
    "    print(f\"Data processing completed in {time.time() - start_time:.2f} seconds.\")"
   ]
  },
  {
   "cell_type": "code",
   "execution_count": 13,
   "metadata": {},
   "outputs": [
    {
     "name": "stdout",
     "output_type": "stream",
     "text": [
      "Processing ../data/external/dataset_name/Archieve\\Dataset_bibliography.txt\n",
      "Cleaned and saved TXT data to ../data/processed/cleaned_Dataset_bibliography.txt\n",
      "Processing ../data/external/dataset_name/Archieve\\ijcnlp_dailydialog.zip\n",
      "Skipping unsupported file format: ../data/external/dataset_name/Archieve\\ijcnlp_dailydialog.zip\n",
      "Processing ../data/external/dataset_name/Archieve\\Synthetic-Persona-Chat-main.zip\n",
      "Skipping unsupported file format: ../data/external/dataset_name/Archieve\\Synthetic-Persona-Chat-main.zip\n",
      "Processing ../data/external/dataset_name/cornell_university\\movie_characters_metadata.tsv\n",
      "Saved CSV/TSV data to ../data/processed/cleaned_movie_characters_metadata.tsv\n",
      "Processing ../data/external/dataset_name/cornell_university\\movie_conversations.tsv\n",
      "Saved CSV/TSV data to ../data/processed/cleaned_movie_conversations.tsv\n",
      "Processing ../data/external/dataset_name/cornell_university\\movie_lines.tsv\n",
      "Saved CSV/TSV data to ../data/processed/cleaned_movie_lines.tsv\n",
      "Processing ../data/external/dataset_name/cornell_university\\movie_titles_metadata.tsv\n",
      "Saved CSV/TSV data to ../data/processed/cleaned_movie_titles_metadata.tsv\n",
      "Processing ../data/external/dataset_name/cornell_university\\raw_script_urls.tsv\n",
      "Saved CSV/TSV data to ../data/processed/cleaned_raw_script_urls.tsv\n",
      "Processing ../data/external/dataset_name/ijcnlp_dailydialog\\dialogues_act.txt\n",
      "Cleaned and saved TXT data to ../data/processed/cleaned_dialogues_act.txt\n",
      "Processing ../data/external/dataset_name/ijcnlp_dailydialog\\dialogues_emotion.txt\n",
      "Cleaned and saved TXT data to ../data/processed/cleaned_dialogues_emotion.txt\n",
      "Processing ../data/external/dataset_name/ijcnlp_dailydialog\\dialogues_text.txt\n",
      "Cleaned and saved TXT data to ../data/processed/cleaned_dialogues_text.txt\n",
      "Processing ../data/external/dataset_name/ijcnlp_dailydialog\\dialogues_topic.txt\n",
      "Cleaned and saved TXT data to ../data/processed/cleaned_dialogues_topic.txt\n",
      "Processing ../data/external/dataset_name/synthetic_pesona_chat\\New-Persona-New-Conversations.csv\n",
      "Saved CSV/TSV data to ../data/processed/cleaned_New-Persona-New-Conversations.csv\n",
      "Processing ../data/external/dataset_name/synthetic_pesona_chat\\Synthetic-Persona-Chat_test.csv\n",
      "Saved CSV/TSV data to ../data/processed/cleaned_Synthetic-Persona-Chat_test.csv\n",
      "Processing ../data/external/dataset_name/synthetic_pesona_chat\\Synthetic-Persona-Chat_train.csv\n",
      "Saved CSV/TSV data to ../data/processed/cleaned_Synthetic-Persona-Chat_train.csv\n",
      "Processing ../data/external/dataset_name/synthetic_pesona_chat\\Synthetic-Persona-Chat_valid.csv\n",
      "Saved CSV/TSV data to ../data/processed/cleaned_Synthetic-Persona-Chat_valid.csv\n"
     ]
    }
   ],
   "source": [
    "# Create processed directory if it doesn't exist\n",
    "os.makedirs(processed_data_path, exist_ok=True)\n",
    "\n",
    "# Define function to load different types of data files\n",
    "def load_data(file_path):\n",
    "    if file_path.endswith(\".txt\"):\n",
    "        with open(file_path, \"r\", encoding=\"utf-8\") as file:\n",
    "            return file.readlines()\n",
    "    elif file_path.endswith(\".csv\"):\n",
    "        try:\n",
    "            return pd.read_csv(file_path, on_bad_lines='skip')\n",
    "        except pd.errors.ParserError as e:\n",
    "            print(f\"Error reading {file_path}: {e}\")\n",
    "            return None\n",
    "    elif file_path.endswith(\".tsv\"):\n",
    "        try:\n",
    "            return pd.read_csv(file_path, sep=\"\\t\", on_bad_lines='skip')\n",
    "        except pd.errors.ParserError as e:\n",
    "            print(f\"Error reading {file_path}: {e}\")\n",
    "            return None\n",
    "    else:\n",
    "        print(f\"Skipping unsupported file format: {file_path}\")\n",
    "        return None\n",
    "\n",
    "\n",
    "\n",
    "# Clean text function for TXT files\n",
    "def clean_text(data):\n",
    "    # Basic cleaning: remove special tokens and whitespace\n",
    "    cleaned_data = [re.sub(r\"__eou__\", \"\", line).strip() for line in data]\n",
    "    cleaned_data = [re.sub(r\"\\s+\", \" \", line) for line in cleaned_data]\n",
    "    return cleaned_data\n",
    "\n",
    "# Save function to write cleaned data\n",
    "def save_data(data, file_path):\n",
    "    if isinstance(data, list):\n",
    "        # If data is a list (for TXT files)\n",
    "        with open(file_path, \"w\", encoding=\"utf-8\") as file:\n",
    "            file.write(\"\\n\".join(data))\n",
    "    elif isinstance(data, pd.DataFrame):\n",
    "        # If data is a DataFrame (for CSV/TSV files)\n",
    "        data.to_csv(file_path, index=False)\n",
    "    else:\n",
    "        print(f\"Unsupported data type for saving: {type(data)}\")\n",
    "\n",
    "# Process each file in the dataset directory\n",
    "for root, dirs, files in os.walk(raw_data_path):\n",
    "    for file_name in files:\n",
    "        file_path = os.path.join(root, file_name)\n",
    "        print(f\"Processing {file_path}\")\n",
    "        \n",
    "        # Load the data\n",
    "        data = load_data(file_path)\n",
    "        \n",
    "        # Clean and save text files\n",
    "        if file_path.endswith(\".txt\") and data is not None:\n",
    "            cleaned_data = clean_text(data)\n",
    "            processed_file_path = os.path.join(processed_data_path, f\"cleaned_{file_name}\")\n",
    "            save_data(cleaned_data, processed_file_path)\n",
    "            print(f\"Cleaned and saved TXT data to {processed_file_path}\")\n",
    "        \n",
    "        # Directly save CSV and TSV files (or apply specific cleaning if needed)\n",
    "        elif (file_path.endswith(\".csv\") or file_path.endswith(\".tsv\")) and data is not None:\n",
    "            processed_file_path = os.path.join(processed_data_path, f\"cleaned_{file_name}\")\n",
    "            save_data(data, processed_file_path)\n",
    "            print(f\"Saved CSV/TSV data to {processed_file_path}\")\n"
   ]
  },
  {
   "cell_type": "markdown",
   "metadata": {},
   "source": [
    "## 2. Tokenize Text Data"
   ]
  },
  {
   "cell_type": "markdown",
   "metadata": {},
   "source": [
    "### 2.1: Load the tokenizer"
   ]
  },
  {
   "cell_type": "code",
   "execution_count": 14,
   "metadata": {},
   "outputs": [
    {
     "name": "stdout",
     "output_type": "stream",
     "text": [
      "Loaded previously tokenized data from ../data/processed/tokenized_dialogues.pkl\n"
     ]
    }
   ],
   "source": [
    "tokenizer = GPT2Tokenizer.from_pretrained(\"gpt2\")\n",
    "os.makedirs(os.path.dirname(tokenized_data_path), exist_ok=True)\n",
    "if process_data:\n",
    "    print(\"Tokenizing new data...\")\n",
    "    tokenized_data = tokenize_data(cleaned_dialogues, tokenizer)\n",
    "    with open(tokenized_data_path, \"wb\") as f:\n",
    "        pickle.dump(tokenized_data, f)\n",
    "    \n",
    "    # Save tokenized data for future use\n",
    "    with open(tokenized_data_path, \"wb\") as f:\n",
    "        pickle.dump(tokenized_data, f)\n",
    "    print(f\"Tokenized data saved to {tokenized_data_path}\")\n",
    "else:\n",
    "    try:\n",
    "        with open(tokenized_data_path, \"rb\") as f:\n",
    "            tokenized_data = pickle.load(f)\n",
    "        print(f\"Loaded previously tokenized data from {tokenized_data_path}\")\n",
    "    except FileNotFoundError:\n",
    "        print(f\"Error: Tokenized data file not found at {tokenized_data_path}. Make sure the file exists or reprocess the data.\")\n",
    "        process_data = True"
   ]
  },
  {
   "cell_type": "markdown",
   "metadata": {},
   "source": [
    "### 2.2: Set the padding token to be the same as the end-of-sequence token"
   ]
  },
  {
   "cell_type": "code",
   "execution_count": 15,
   "metadata": {},
   "outputs": [],
   "source": [
    "tokenizer.pad_token = tokenizer.eos_token"
   ]
  },
  {
   "cell_type": "markdown",
   "metadata": {},
   "source": [
    "### 2.3: Tokenize data"
   ]
  },
  {
   "cell_type": "code",
   "execution_count": 16,
   "metadata": {},
   "outputs": [],
   "source": [
    "def tokenize_data(data, tokenizer):\n",
    "    return [tokenizer(line, return_tensors=\"pt\", padding=\"max_length\", truncation=True) for line in data]"
   ]
  },
  {
   "cell_type": "markdown",
   "metadata": {},
   "source": [
    "### 2.4: Perform Tokenization"
   ]
  },
  {
   "cell_type": "code",
   "execution_count": 17,
   "metadata": {},
   "outputs": [
    {
     "name": "stdout",
     "output_type": "stream",
     "text": [
      "Loaded 13118 lines from ../data/external/dataset_name/ijcnlp_dailydialog/dialogues_text.txt\n",
      "Cleaned dialogues: 13118 lines\n",
      "Data cleaned and saved to ../data/processed/cleaned_dialogues_text.txt\n",
      "Data tokenized successfully\n",
      "Tokenized data saved to ../data/processed/tokenized_dialogues.pkl\n",
      "Sample tokenized data: [{'input_ids': tensor([[  464,  9592,   336,  ..., 50256, 50256, 50256]]), 'attention_mask': tensor([[1, 1, 1,  ..., 0, 0, 0]])}, {'input_ids': tensor([[ 2396, 11740,   837,  ..., 50256, 50256, 50256]]), 'attention_mask': tensor([[1, 1, 1,  ..., 0, 0, 0]])}, {'input_ids': tensor([[ 8491,  1243,   991,  ..., 50256, 50256, 50256]]), 'attention_mask': tensor([[1, 1, 1,  ..., 0, 0, 0]])}, {'input_ids': tensor([[17353,   345,  2000,  ..., 50256, 50256, 50256]]), 'attention_mask': tensor([[1, 1, 1,  ..., 0, 0, 0]])}, {'input_ids': tensor([[ 8491,   345,  1016,  ..., 50256, 50256, 50256]]), 'attention_mask': tensor([[1, 1, 1,  ..., 0, 0, 0]])}]\n"
     ]
    }
   ],
   "source": [
    "# Define paths\n",
    "raw_data_path = \"../data/external/dataset_name/ijcnlp_dailydialog/dialogues_text.txt\"\n",
    "processed_data_path = \"../data/processed/cleaned_dialogues_text.txt\"\n",
    "tokenized_data_path = \"../data/processed/tokenized_dialogues.pkl\"\n",
    "\n",
    "# Function to load raw data\n",
    "def load_data(file_path):\n",
    "    if os.path.isfile(file_path):\n",
    "        with open(file_path, \"r\", encoding=\"utf-8\") as file:\n",
    "            return file.readlines()\n",
    "    else:\n",
    "        print(f\"File not found: {file_path}\")\n",
    "        return None\n",
    "\n",
    "# Function to clean text data\n",
    "def clean_text(data):\n",
    "    # Basic cleaning: remove special tokens and extra whitespace\n",
    "    cleaned_data = [re.sub(r\"__eou__\", \"\", line).strip() for line in data]\n",
    "    cleaned_data = [re.sub(r\"\\s+\", \" \", line) for line in cleaned_data]\n",
    "    return cleaned_data\n",
    "\n",
    "# Function to save cleaned data to a file\n",
    "def save_data(data, file_path):\n",
    "    with open(file_path, \"w\", encoding=\"utf-8\") as file:\n",
    "        file.write(\"\\n\".join(data))\n",
    "\n",
    "# Function to tokenize data\n",
    "def tokenize_data(data, tokenizer):\n",
    "    return [\n",
    "        tokenizer(line, return_tensors=\"pt\", padding=\"max_length\", truncation=True)\n",
    "        for line in data\n",
    "    ]\n",
    "\n",
    "# Load, clean, and save the data\n",
    "dialogues = load_data(raw_data_path)\n",
    "if dialogues is None:\n",
    "    print(\"Error: Failed to load dialogues. Check the file path or file format.\")\n",
    "else:\n",
    "    print(f\"Loaded {len(dialogues)} lines from {raw_data_path}\")\n",
    "\n",
    "# Clean the data and check the result\n",
    "cleaned_dialogues = clean_text(dialogues)\n",
    "if not cleaned_dialogues:\n",
    "    print(\"Error: Cleaning process failed or returned an empty result.\")\n",
    "else:\n",
    "    print(f\"Cleaned dialogues: {len(cleaned_dialogues)} lines\")\n",
    "\n",
    "# Save the cleaned data\n",
    "save_data(cleaned_dialogues, processed_data_path)\n",
    "print(f\"Data cleaned and saved to {processed_data_path}\")\n",
    "\n",
    "# Tokenize the cleaned dialogues\n",
    "tokenized_data = tokenize_data(cleaned_dialogues, tokenizer)\n",
    "print(\"Data tokenized successfully\")\n",
    "\n",
    "# Save the tokenized data as a pickle file for later use\n",
    "import pickle\n",
    "\n",
    "with open(tokenized_data_path, \"wb\") as f:\n",
    "    pickle.dump(tokenized_data, f)\n",
    "print(f\"Tokenized data saved to {tokenized_data_path}\")\n",
    "\n",
    "# Optional: Print sample of tokenized data\n",
    "print(f\"Sample tokenized data: {tokenized_data[:5]}\")"
   ]
  },
  {
   "cell_type": "markdown",
   "metadata": {},
   "source": [
    "### 2.5: Save tokenized data as a list of token dictionaries"
   ]
  },
  {
   "cell_type": "code",
   "execution_count": 18,
   "metadata": {},
   "outputs": [
    {
     "name": "stdout",
     "output_type": "stream",
     "text": [
      "Tokenized data saved to ../data/processed/tokenized_dialogues.pkl\n"
     ]
    }
   ],
   "source": [
    "tokenized_data_path = \"../data/processed/tokenized_dialogues.pkl\"\n",
    "with open(tokenized_data_path, \"wb\") as file:\n",
    "    pickle.dump(tokenized_data, file)\n",
    "\n",
    "print(f\"Tokenized data saved to {tokenized_data_path}\")"
   ]
  },
  {
   "cell_type": "markdown",
   "metadata": {},
   "source": [
    "### 2.6: Save tokenized data as a list of token dictionaries\n",
    "\n",
    "* In this step, the tokenized data to a file for later use. \n",
    "* The tokenized data is stored as a list of dictionaries, where each dictionary contains the input IDs and attention masks for a dialogue. \n",
    "* We use the `pickle` module to serialize the tokenized data and save it to a file specified by `tokenized_data_path`.\n",
    "* This allows to easily load the tokenized data in the future without having to reprocess the raw text data."
   ]
  },
  {
   "cell_type": "code",
   "execution_count": 19,
   "metadata": {},
   "outputs": [],
   "source": [
    "class DialogueDataset(Dataset):\n",
    "    def __init__(self, tokenized_data):\n",
    "        self.input_ids = [item[\"input_ids\"].squeeze() for item in tokenized_data]\n",
    "        self.attention_masks = [item[\"attention_mask\"].squeeze() for item in tokenized_data]\n",
    "        \n",
    "        # Set labels to be the same as input_ids for language modeling\n",
    "        self.labels = [item[\"input_ids\"].squeeze() for item in tokenized_data]\n",
    "\n",
    "    def __len__(self):\n",
    "        return len(self.input_ids)\n",
    "\n",
    "    def __getitem__(self, idx):\n",
    "        return {\n",
    "            \"input_ids\": self.input_ids[idx],\n",
    "            \"attention_mask\": self.attention_masks[idx],\n",
    "            \"labels\": self.labels[idx]  # Add labels key\n",
    "        }"
   ]
  },
  {
   "cell_type": "markdown",
   "metadata": {},
   "source": [
    "### 2.7: Create dataset"
   ]
  },
  {
   "cell_type": "code",
   "execution_count": 20,
   "metadata": {},
   "outputs": [],
   "source": [
    "dialogue_dataset = DialogueDataset(tokenized_data)"
   ]
  },
  {
   "cell_type": "markdown",
   "metadata": {},
   "source": [
    "### 2.8: Save the dataset object for later use in training"
   ]
  },
  {
   "cell_type": "code",
   "execution_count": 21,
   "metadata": {},
   "outputs": [
    {
     "name": "stdout",
     "output_type": "stream",
     "text": [
      "Structured dataset saved to ../data/processed/dialogue_dataset.pt\n"
     ]
    }
   ],
   "source": [
    "dataset_path = \"../data/processed/dialogue_dataset.pt\"\n",
    "torch.save(dialogue_dataset, dataset_path)\n",
    "print(f\"Structured dataset saved to {dataset_path}\")"
   ]
  },
  {
   "cell_type": "markdown",
   "metadata": {},
   "source": [
    "## 3.0: Fine-Tune a Pre-trained Model"
   ]
  },
  {
   "cell_type": "code",
   "execution_count": 22,
   "metadata": {},
   "outputs": [
    {
     "name": "stdout",
     "output_type": "stream",
     "text": [
      "Fine-tuned model found. Loading the model...\n",
      "Fine-tuned model loaded successfully.\n"
     ]
    }
   ],
   "source": [
    "# Check if the fine-tuned model already exists\n",
    "fine_tuned_model_path = \"./fantasy_model\"\n",
    "if os.path.exists(fine_tuned_model_path):\n",
    "    print(\"Fine-tuned model found. Loading the model...\")\n",
    "    try:\n",
    "        model = GPT2LMHeadModel.from_pretrained(fine_tuned_model_path)\n",
    "        tokenizer = GPT2Tokenizer.from_pretrained(fine_tuned_model_path)\n",
    "        print(\"Fine-tuned model loaded successfully.\")\n",
    "    except Exception as e:\n",
    "        print(f\"Error loading fine-tuned model: {e}. Starting with the base model instead.\")\n",
    "        model_name = \"gpt2\"\n",
    "        model = GPT2LMHeadModel.from_pretrained(model_name)\n",
    "        tokenizer = GPT2Tokenizer.from_pretrained(model_name)\n",
    "        tokenizer.pad_token = tokenizer.eos_token"
   ]
  },
  {
   "cell_type": "markdown",
   "metadata": {},
   "source": [
    "### 3.1: Choose a model"
   ]
  },
  {
   "cell_type": "code",
   "execution_count": 23,
   "metadata": {},
   "outputs": [],
   "source": [
    "model_name = \"gpt2\"  # or try 'EleutherAI/gpt-neo-125M' for a larger model\n",
    "model = GPT2LMHeadModel.from_pretrained(model_name)\n",
    "tokenizer = GPT2Tokenizer.from_pretrained(model_name)"
   ]
  },
  {
   "cell_type": "markdown",
   "metadata": {},
   "source": [
    "### 3.2: Set padding token if it's not set"
   ]
  },
  {
   "cell_type": "code",
   "execution_count": 24,
   "metadata": {},
   "outputs": [],
   "source": [
    "tokenizer.pad_token = tokenizer.eos_token"
   ]
  },
  {
   "cell_type": "markdown",
   "metadata": {},
   "source": [
    "### 3.3: Prepare Dataset"
   ]
  },
  {
   "cell_type": "code",
   "execution_count": 25,
   "metadata": {},
   "outputs": [
    {
     "name": "stderr",
     "output_type": "stream",
     "text": [
      "C:\\Users\\Christian\\AppData\\Local\\Temp\\ipykernel_21948\\1640729464.py:3: FutureWarning: You are using `torch.load` with `weights_only=False` (the current default value), which uses the default pickle module implicitly. It is possible to construct malicious pickle data which will execute arbitrary code during unpickling (See https://github.com/pytorch/pytorch/blob/main/SECURITY.md#untrusted-models for more details). In a future release, the default value for `weights_only` will be flipped to `True`. This limits the functions that could be executed during unpickling. Arbitrary objects will no longer be allowed to be loaded via this mode unless they are explicitly allowlisted by the user via `torch.serialization.add_safe_globals`. We recommend you start setting `weights_only=True` for any use case where you don't have full control of the loaded file. Please open an issue on GitHub for any issues related to this experimental feature.\n",
      "  dialogue_dataset = torch.load(dataset_path)\n"
     ]
    }
   ],
   "source": [
    "# Load the structured dataset\n",
    "dataset_path = \"../data/processed/dialogue_dataset.pt\"\n",
    "dialogue_dataset = torch.load(dataset_path)"
   ]
  },
  {
   "cell_type": "markdown",
   "metadata": {},
   "source": [
    "#### 3.3.1: Set up a DataLoader for batching during training"
   ]
  },
  {
   "cell_type": "code",
   "execution_count": 26,
   "metadata": {},
   "outputs": [],
   "source": [
    "train_dataloader = DataLoader(dialogue_dataset, batch_size=2, shuffle=True)"
   ]
  },
  {
   "cell_type": "markdown",
   "metadata": {},
   "source": [
    "### 3.4: Fine-Tuning Configuration"
   ]
  },
  {
   "cell_type": "markdown",
   "metadata": {},
   "source": [
    "#### 3.4.1: Load the dataset with labels"
   ]
  },
  {
   "cell_type": "code",
   "execution_count": 27,
   "metadata": {},
   "outputs": [
    {
     "name": "stderr",
     "output_type": "stream",
     "text": [
      "C:\\Users\\Christian\\AppData\\Local\\Temp\\ipykernel_21948\\55335935.py:2: FutureWarning: You are using `torch.load` with `weights_only=False` (the current default value), which uses the default pickle module implicitly. It is possible to construct malicious pickle data which will execute arbitrary code during unpickling (See https://github.com/pytorch/pytorch/blob/main/SECURITY.md#untrusted-models for more details). In a future release, the default value for `weights_only` will be flipped to `True`. This limits the functions that could be executed during unpickling. Arbitrary objects will no longer be allowed to be loaded via this mode unless they are explicitly allowlisted by the user via `torch.serialization.add_safe_globals`. We recommend you start setting `weights_only=True` for any use case where you don't have full control of the loaded file. Please open an issue on GitHub for any issues related to this experimental feature.\n",
      "  dialogue_dataset = torch.load(formatted_data_path)\n"
     ]
    }
   ],
   "source": [
    "formatted_data_path = \"../data/processed/dialogue_dataset.pt\"\n",
    "dialogue_dataset = torch.load(formatted_data_path)\n",
    "\n",
    "train_indices, eval_indices = train_test_split(\n",
    "    list(range(len(dialogue_dataset))), test_size=0.2, random_state=42\n",
    ")\n",
    "train_dataset = Subset(dialogue_dataset, train_indices)\n",
    "eval_dataset = Subset(dialogue_dataset, eval_indices)"
   ]
  },
  {
   "cell_type": "markdown",
   "metadata": {},
   "source": [
    "#### 3.4.2: Set mixed precision training to FP16"
   ]
  },
  {
   "cell_type": "code",
   "execution_count": 28,
   "metadata": {},
   "outputs": [],
   "source": [
    "# Set to True for mixed-precision training\n",
    "fp16_enabled = True "
   ]
  },
  {
   "cell_type": "markdown",
   "metadata": {},
   "source": [
    "#### 3.4.3: Set Epochs"
   ]
  },
  {
   "cell_type": "code",
   "execution_count": 29,
   "metadata": {},
   "outputs": [],
   "source": [
    "num_epochs = 2"
   ]
  },
  {
   "cell_type": "markdown",
   "metadata": {},
   "source": [
    "#### 3.4.4: Model training arguments"
   ]
  },
  {
   "cell_type": "code",
   "execution_count": 30,
   "metadata": {},
   "outputs": [
    {
     "name": "stderr",
     "output_type": "stream",
     "text": [
      "c:\\Users\\Christian\\anaconda3\\envs\\venv-ml\\lib\\site-packages\\transformers\\training_args.py:1559: FutureWarning: `evaluation_strategy` is deprecated and will be removed in version 4.46 of 🤗 Transformers. Use `eval_strategy` instead\n",
      "  warnings.warn(\n"
     ]
    }
   ],
   "source": [
    "training_args = TrainingArguments(\n",
    "    output_dir=\"./results\",\n",
    "    evaluation_strategy=\"epoch\",\n",
    "    learning_rate=2e-5,\n",
    "    weight_decay=0.1,\n",
    "    per_device_train_batch_size=16,\n",
    "    num_train_epochs=num_epochs,\n",
    "    logging_dir=\"./logs\",\n",
    "    save_steps=500,\n",
    "    fp16=fp16_enabled,\n",
    ")\n",
    "\n",
    "trainer = Trainer(\n",
    "    model=model,\n",
    "    args=training_args,\n",
    "    train_dataset=train_dataset,\n",
    "    eval_dataset=eval_dataset\n",
    ")"
   ]
  },
  {
   "cell_type": "markdown",
   "metadata": {},
   "source": [
    "### 3.5: Start Fine-Tuning"
   ]
  },
  {
   "cell_type": "code",
   "execution_count": 31,
   "metadata": {},
   "outputs": [
    {
     "name": "stdout",
     "output_type": "stream",
     "text": [
      "Fine-tuned model already exists. Skipping training...\n"
     ]
    }
   ],
   "source": [
    "if os.path.exists(fine_tuned_model_path):\n",
    "    print(\"Fine-tuned model already exists. Skipping training...\")\n",
    "else:\n",
    "    start_time = time.time()\n",
    "    print(\"Starting model fine-tuning...\")\n",
    "    trainer.train()\n",
    "    print(f\"Fine-tuning completed in {time.time() - start_time:.2f} seconds.\")\n",
    "    model.save_pretrained(fine_tuned_model_path)\n",
    "    tokenizer.save_pretrained(fine_tuned_model_path)\n",
    "    print(f\"Fine-tuned model saved to {fine_tuned_model_path}\")\n"
   ]
  },
  {
   "cell_type": "markdown",
   "metadata": {},
   "source": [
    "### 3.6: Save the Fined-tuned Model"
   ]
  },
  {
   "cell_type": "code",
   "execution_count": 32,
   "metadata": {},
   "outputs": [
    {
     "data": {
      "text/plain": [
       "('./fantasy_model\\\\tokenizer_config.json',\n",
       " './fantasy_model\\\\special_tokens_map.json',\n",
       " './fantasy_model\\\\vocab.json',\n",
       " './fantasy_model\\\\merges.txt',\n",
       " './fantasy_model\\\\added_tokens.json')"
      ]
     },
     "execution_count": 32,
     "metadata": {},
     "output_type": "execute_result"
    }
   ],
   "source": [
    "model.save_pretrained(\"./fantasy_model\")\n",
    "tokenizer.save_pretrained(\"./fantasy_model\")"
   ]
  },
  {
   "cell_type": "markdown",
   "metadata": {},
   "source": [
    "## 4.0: Generate a Fantasy Paragraph"
   ]
  },
  {
   "cell_type": "markdown",
   "metadata": {},
   "source": [
    "### 4.1: Load the fine-tuned model and tokenizer"
   ]
  },
  {
   "cell_type": "code",
   "execution_count": 49,
   "metadata": {},
   "outputs": [
    {
     "name": "stdout",
     "output_type": "stream",
     "text": [
      "Input Prompt: The following dialogue takes place in a tense negotiation. The NPC's tone is serious and their character trait is sarcastic.\n"
     ]
    }
   ],
   "source": [
    "# Define the input parameters for dialogue generation\n",
    "tone = \"serious\"  # Options: 'humorous', 'serious', etc.\n",
    "character_trait = \"sarcastic\"  # Options: 'sarcastic', 'stoic', etc.\n",
    "context = \"a tense negotiation\"\n",
    "\n",
    "# Combine input into a single prompt for the model\n",
    "input_prompt = f\"The following dialogue takes place in {context}. The NPC's tone is {tone} and their character trait is {character_trait}.\"\n",
    "\n",
    "print(f\"Input Prompt: {input_prompt}\")"
   ]
  },
  {
   "cell_type": "code",
   "execution_count": 50,
   "metadata": {},
   "outputs": [],
   "source": [
    "model = GPT2LMHeadModel.from_pretrained(\"./fantasy_model\")\n",
    "tokenizer = GPT2Tokenizer.from_pretrained(\"./fantasy_model\")"
   ]
  },
  {
   "cell_type": "markdown",
   "metadata": {},
   "source": [
    "### 4.2: Generate Text"
   ]
  },
  {
   "cell_type": "markdown",
   "metadata": {},
   "source": [
    "#### 4.2.1: Input prompt to guide the model"
   ]
  },
  {
   "cell_type": "code",
   "execution_count": 51,
   "metadata": {},
   "outputs": [
    {
     "name": "stderr",
     "output_type": "stream",
     "text": [
      "The attention mask and the pad token id were not set. As a consequence, you may observe unexpected behavior. Please pass your input's `attention_mask` to obtain reliable results.\n",
      "Setting `pad_token_id` to `eos_token_id`:None for open-end generation.\n"
     ]
    },
    {
     "name": "stdout",
     "output_type": "stream",
     "text": [
      "Generated Dialogue:\n",
      "The following dialogue takes place in a tense negotiation. The NPC's tone is serious and their character trait is sarcastic.\n",
      "\n",
      "\"I'm sorry, but I'm not sure what you're talking about. I don't know what to do. You\n"
     ]
    }
   ],
   "source": [
    "# Tokenize the input prompt\n",
    "input_ids = tokenizer.encode(input_prompt, return_tensors=\"pt\")\n",
    "\n",
    "# Generate dialogue\n",
    "output = model.generate(\n",
    "    input_ids,\n",
    "    max_length=50,\n",
    "    num_return_sequences=1,\n",
    "    no_repeat_ngram_size=2,\n",
    "    temperature=0.7,\n",
    ")\n",
    "\n",
    "# Decode and print the generated text\n",
    "# Decode the generated dialogue\n",
    "generated_dialogue = tokenizer.decode(output[0], skip_special_tokens=True)\n",
    "print(f\"Generated Dialogue:\\n{generated_dialogue}\")"
   ]
  },
  {
   "cell_type": "code",
   "execution_count": 36,
   "metadata": {},
   "outputs": [],
   "source": [
    "prompt = \"In the mystical forest, under a harsh sun, a Monster moves silently among the ancient trees.\""
   ]
  },
  {
   "cell_type": "markdown",
   "metadata": {},
   "source": [
    "#### 4.2.2: Encode the prompt"
   ]
  },
  {
   "cell_type": "code",
   "execution_count": 37,
   "metadata": {},
   "outputs": [],
   "source": [
    "inputs = tokenizer(prompt, return_tensors=\"pt\")\n",
    "input_ids = inputs[\"input_ids\"]\n",
    "attention_mask = inputs[\"attention_mask\"]"
   ]
  },
  {
   "cell_type": "markdown",
   "metadata": {},
   "source": [
    "#### 4.2.3: Generate text"
   ]
  },
  {
   "cell_type": "code",
   "execution_count": 38,
   "metadata": {},
   "outputs": [],
   "source": [
    "outputs = model.generate(\n",
    "    input_ids=input_ids,\n",
    "    attention_mask=attention_mask,\n",
    "    max_length=7500,\n",
    "    num_return_sequences=1,\n",
    "    no_repeat_ngram_size=2,\n",
    "    pad_token_id=tokenizer.eos_token_id  # Set pad_token_id to eos_token_id for open-end generation\n",
    ")"
   ]
  },
  {
   "cell_type": "code",
   "execution_count": 48,
   "metadata": {},
   "outputs": [
    {
     "name": "stderr",
     "output_type": "stream",
     "text": [
      "c:\\Users\\Christian\\anaconda3\\envs\\venv-ml\\lib\\site-packages\\transformers\\generation\\configuration_utils.py:590: UserWarning:\n",
      "\n",
      "`do_sample` is set to `False`. However, `temperature` is set to `0.7` -- this flag is only used in sample-based generation modes. You should set `do_sample=True` or unset `temperature`.\n",
      "\n",
      "The attention mask and the pad token id were not set. As a consequence, you may observe unexpected behavior. Please pass your input's `attention_mask` to obtain reliable results.\n",
      "Setting `pad_token_id` to `eos_token_id`:None for open-end generation.\n"
     ]
    },
    {
     "name": "stdout",
     "output_type": "stream",
     "text": [
      "New Generated Dialogue:\n",
      "The following dialogue takes place in Some one died. The NPC's tone is serious and their character trait is stoic.\n",
      "\n",
      "\"I'm sorry, but I'm not sure what to do. I don't know what I should do, and\n"
     ]
    }
   ],
   "source": [
    "# Update parameters\n",
    "tone = \"serious\"  # Change the tone\n",
    "character_trait = \"stoic\"  # Change the character trait\n",
    "context = \"Some one died\"\n",
    "\n",
    "# Create a new input prompt\n",
    "new_input_prompt = f\"The following dialogue takes place in {context}. The NPC's tone is {tone} and their character trait is {character_trait}.\"\n",
    "\n",
    "# Tokenize the updated input prompt\n",
    "new_input_ids = tokenizer.encode(new_input_prompt, return_tensors=\"pt\")\n",
    "\n",
    "# Generate new dialogue\n",
    "new_output = model.generate(\n",
    "    new_input_ids,\n",
    "    max_length=50,\n",
    "    num_return_sequences=1,\n",
    "    no_repeat_ngram_size=2,\n",
    "    temperature=0.7,\n",
    ")\n",
    "\n",
    "# Decode the new dialogue\n",
    "new_generated_dialogue = tokenizer.decode(new_output[0], skip_special_tokens=True)\n",
    "print(f\"New Generated Dialogue:\\n{new_generated_dialogue}\")\n"
   ]
  },
  {
   "cell_type": "markdown",
   "metadata": {},
   "source": [
    "#### 4.2.4: Decode the output"
   ]
  },
  {
   "cell_type": "code",
   "execution_count": 40,
   "metadata": {},
   "outputs": [],
   "source": [
    "generated_text = tokenizer.decode(outputs[0], skip_special_tokens=True)"
   ]
  },
  {
   "cell_type": "markdown",
   "metadata": {},
   "source": [
    "## 5.0: Save the output"
   ]
  },
  {
   "cell_type": "markdown",
   "metadata": {},
   "source": [
    "### 5.1: Create folder output variable"
   ]
  },
  {
   "cell_type": "code",
   "execution_count": 41,
   "metadata": {},
   "outputs": [],
   "source": [
    "output_folder = \"../results/generated_paragraphs\""
   ]
  },
  {
   "cell_type": "markdown",
   "metadata": {},
   "source": [
    "### 5.2: Create the folder if it doesn't exist"
   ]
  },
  {
   "cell_type": "code",
   "execution_count": 42,
   "metadata": {},
   "outputs": [],
   "source": [
    "os.makedirs(output_folder, exist_ok=True)"
   ]
  },
  {
   "cell_type": "markdown",
   "metadata": {},
   "source": [
    "### 5.3: Define the file path for the output text file"
   ]
  },
  {
   "cell_type": "code",
   "execution_count": 43,
   "metadata": {},
   "outputs": [],
   "source": [
    "file_path = os.path.join(output_folder, \"generated_paragraph.txt\")"
   ]
  },
  {
   "cell_type": "markdown",
   "metadata": {},
   "source": [
    "### 5.4: Write the generated text to a .txt file"
   ]
  },
  {
   "cell_type": "code",
   "execution_count": 44,
   "metadata": {},
   "outputs": [
    {
     "name": "stdout",
     "output_type": "stream",
     "text": [
      "Metadata saved successfully.\n"
     ]
    }
   ],
   "source": [
    "# Save metadata after successful processing and training\n",
    "metadata = {\n",
    "    \"last_data_update\": time.time(),\n",
    "    \"model_path\": fine_tuned_model_path\n",
    "}\n",
    "try:\n",
    "    with open(\"metadata.json\", \"w\") as f:\n",
    "        json.dump(metadata, f)  # Save the metadata dictionary\n",
    "    print(\"Metadata saved successfully.\")\n",
    "except Exception as e:\n",
    "    print(f\"Error saving metadata: {e}\")\n"
   ]
  },
  {
   "cell_type": "code",
   "execution_count": 45,
   "metadata": {},
   "outputs": [
    {
     "name": "stdout",
     "output_type": "stream",
     "text": [
      "Metadata saved successfully.\n"
     ]
    }
   ],
   "source": [
    "with open(\"metadata.json\", \"w\") as f:\n",
    "    json.dump(metadata, f)\n",
    "    print(\"Metadata saved successfully.\")"
   ]
  },
  {
   "cell_type": "markdown",
   "metadata": {},
   "source": [
    "## Step 6: Visualization"
   ]
  },
  {
   "cell_type": "code",
   "execution_count": 46,
   "metadata": {},
   "outputs": [
    {
     "data": {
      "application/vnd.plotly.v1+json": {
       "config": {
        "plotlyServerURL": "https://plot.ly"
       },
       "data": [
        {
         "hovertemplate": "variable=wide_variable_0<br>Epochs=%{x}<br>value=%{y}<extra></extra>",
         "legendgroup": "wide_variable_0",
         "line": {
          "color": "#636efa",
          "dash": "solid"
         },
         "marker": {
          "symbol": "circle"
         },
         "mode": "lines",
         "name": "wide_variable_0",
         "orientation": "v",
         "showlegend": true,
         "type": "scatter",
         "x": [
          1,
          2,
          3,
          4
         ],
         "xaxis": "x",
         "y": [
          0.8,
          0.6,
          0.4,
          0.3
         ],
         "yaxis": "y"
        },
        {
         "hovertemplate": "variable=wide_variable_1<br>Epochs=%{x}<br>value=%{y}<extra></extra>",
         "legendgroup": "wide_variable_1",
         "line": {
          "color": "#EF553B",
          "dash": "solid"
         },
         "marker": {
          "symbol": "circle"
         },
         "mode": "lines",
         "name": "wide_variable_1",
         "orientation": "v",
         "showlegend": true,
         "type": "scatter",
         "x": [
          1,
          2,
          3,
          4
         ],
         "xaxis": "x",
         "y": [
          0.9,
          0.7,
          0.5,
          0.4
         ],
         "yaxis": "y"
        },
        {
         "mode": "lines+markers",
         "name": "Training Loss",
         "type": "scatter",
         "x": [
          1,
          2,
          3,
          4
         ],
         "y": [
          0.8,
          0.6,
          0.4,
          0.3
         ]
        },
        {
         "mode": "lines+markers",
         "name": "Validation Loss",
         "type": "scatter",
         "x": [
          1,
          2,
          3,
          4
         ],
         "y": [
          0.9,
          0.7,
          0.5,
          0.4
         ]
        }
       ],
       "layout": {
        "legend": {
         "title": {
          "text": "variable"
         },
         "tracegroupgap": 0
        },
        "template": {
         "data": {
          "bar": [
           {
            "error_x": {
             "color": "#2a3f5f"
            },
            "error_y": {
             "color": "#2a3f5f"
            },
            "marker": {
             "line": {
              "color": "#E5ECF6",
              "width": 0.5
             },
             "pattern": {
              "fillmode": "overlay",
              "size": 10,
              "solidity": 0.2
             }
            },
            "type": "bar"
           }
          ],
          "barpolar": [
           {
            "marker": {
             "line": {
              "color": "#E5ECF6",
              "width": 0.5
             },
             "pattern": {
              "fillmode": "overlay",
              "size": 10,
              "solidity": 0.2
             }
            },
            "type": "barpolar"
           }
          ],
          "carpet": [
           {
            "aaxis": {
             "endlinecolor": "#2a3f5f",
             "gridcolor": "white",
             "linecolor": "white",
             "minorgridcolor": "white",
             "startlinecolor": "#2a3f5f"
            },
            "baxis": {
             "endlinecolor": "#2a3f5f",
             "gridcolor": "white",
             "linecolor": "white",
             "minorgridcolor": "white",
             "startlinecolor": "#2a3f5f"
            },
            "type": "carpet"
           }
          ],
          "choropleth": [
           {
            "colorbar": {
             "outlinewidth": 0,
             "ticks": ""
            },
            "type": "choropleth"
           }
          ],
          "contour": [
           {
            "colorbar": {
             "outlinewidth": 0,
             "ticks": ""
            },
            "colorscale": [
             [
              0,
              "#0d0887"
             ],
             [
              0.1111111111111111,
              "#46039f"
             ],
             [
              0.2222222222222222,
              "#7201a8"
             ],
             [
              0.3333333333333333,
              "#9c179e"
             ],
             [
              0.4444444444444444,
              "#bd3786"
             ],
             [
              0.5555555555555556,
              "#d8576b"
             ],
             [
              0.6666666666666666,
              "#ed7953"
             ],
             [
              0.7777777777777778,
              "#fb9f3a"
             ],
             [
              0.8888888888888888,
              "#fdca26"
             ],
             [
              1,
              "#f0f921"
             ]
            ],
            "type": "contour"
           }
          ],
          "contourcarpet": [
           {
            "colorbar": {
             "outlinewidth": 0,
             "ticks": ""
            },
            "type": "contourcarpet"
           }
          ],
          "heatmap": [
           {
            "colorbar": {
             "outlinewidth": 0,
             "ticks": ""
            },
            "colorscale": [
             [
              0,
              "#0d0887"
             ],
             [
              0.1111111111111111,
              "#46039f"
             ],
             [
              0.2222222222222222,
              "#7201a8"
             ],
             [
              0.3333333333333333,
              "#9c179e"
             ],
             [
              0.4444444444444444,
              "#bd3786"
             ],
             [
              0.5555555555555556,
              "#d8576b"
             ],
             [
              0.6666666666666666,
              "#ed7953"
             ],
             [
              0.7777777777777778,
              "#fb9f3a"
             ],
             [
              0.8888888888888888,
              "#fdca26"
             ],
             [
              1,
              "#f0f921"
             ]
            ],
            "type": "heatmap"
           }
          ],
          "heatmapgl": [
           {
            "colorbar": {
             "outlinewidth": 0,
             "ticks": ""
            },
            "colorscale": [
             [
              0,
              "#0d0887"
             ],
             [
              0.1111111111111111,
              "#46039f"
             ],
             [
              0.2222222222222222,
              "#7201a8"
             ],
             [
              0.3333333333333333,
              "#9c179e"
             ],
             [
              0.4444444444444444,
              "#bd3786"
             ],
             [
              0.5555555555555556,
              "#d8576b"
             ],
             [
              0.6666666666666666,
              "#ed7953"
             ],
             [
              0.7777777777777778,
              "#fb9f3a"
             ],
             [
              0.8888888888888888,
              "#fdca26"
             ],
             [
              1,
              "#f0f921"
             ]
            ],
            "type": "heatmapgl"
           }
          ],
          "histogram": [
           {
            "marker": {
             "pattern": {
              "fillmode": "overlay",
              "size": 10,
              "solidity": 0.2
             }
            },
            "type": "histogram"
           }
          ],
          "histogram2d": [
           {
            "colorbar": {
             "outlinewidth": 0,
             "ticks": ""
            },
            "colorscale": [
             [
              0,
              "#0d0887"
             ],
             [
              0.1111111111111111,
              "#46039f"
             ],
             [
              0.2222222222222222,
              "#7201a8"
             ],
             [
              0.3333333333333333,
              "#9c179e"
             ],
             [
              0.4444444444444444,
              "#bd3786"
             ],
             [
              0.5555555555555556,
              "#d8576b"
             ],
             [
              0.6666666666666666,
              "#ed7953"
             ],
             [
              0.7777777777777778,
              "#fb9f3a"
             ],
             [
              0.8888888888888888,
              "#fdca26"
             ],
             [
              1,
              "#f0f921"
             ]
            ],
            "type": "histogram2d"
           }
          ],
          "histogram2dcontour": [
           {
            "colorbar": {
             "outlinewidth": 0,
             "ticks": ""
            },
            "colorscale": [
             [
              0,
              "#0d0887"
             ],
             [
              0.1111111111111111,
              "#46039f"
             ],
             [
              0.2222222222222222,
              "#7201a8"
             ],
             [
              0.3333333333333333,
              "#9c179e"
             ],
             [
              0.4444444444444444,
              "#bd3786"
             ],
             [
              0.5555555555555556,
              "#d8576b"
             ],
             [
              0.6666666666666666,
              "#ed7953"
             ],
             [
              0.7777777777777778,
              "#fb9f3a"
             ],
             [
              0.8888888888888888,
              "#fdca26"
             ],
             [
              1,
              "#f0f921"
             ]
            ],
            "type": "histogram2dcontour"
           }
          ],
          "mesh3d": [
           {
            "colorbar": {
             "outlinewidth": 0,
             "ticks": ""
            },
            "type": "mesh3d"
           }
          ],
          "parcoords": [
           {
            "line": {
             "colorbar": {
              "outlinewidth": 0,
              "ticks": ""
             }
            },
            "type": "parcoords"
           }
          ],
          "pie": [
           {
            "automargin": true,
            "type": "pie"
           }
          ],
          "scatter": [
           {
            "fillpattern": {
             "fillmode": "overlay",
             "size": 10,
             "solidity": 0.2
            },
            "type": "scatter"
           }
          ],
          "scatter3d": [
           {
            "line": {
             "colorbar": {
              "outlinewidth": 0,
              "ticks": ""
             }
            },
            "marker": {
             "colorbar": {
              "outlinewidth": 0,
              "ticks": ""
             }
            },
            "type": "scatter3d"
           }
          ],
          "scattercarpet": [
           {
            "marker": {
             "colorbar": {
              "outlinewidth": 0,
              "ticks": ""
             }
            },
            "type": "scattercarpet"
           }
          ],
          "scattergeo": [
           {
            "marker": {
             "colorbar": {
              "outlinewidth": 0,
              "ticks": ""
             }
            },
            "type": "scattergeo"
           }
          ],
          "scattergl": [
           {
            "marker": {
             "colorbar": {
              "outlinewidth": 0,
              "ticks": ""
             }
            },
            "type": "scattergl"
           }
          ],
          "scattermapbox": [
           {
            "marker": {
             "colorbar": {
              "outlinewidth": 0,
              "ticks": ""
             }
            },
            "type": "scattermapbox"
           }
          ],
          "scatterpolar": [
           {
            "marker": {
             "colorbar": {
              "outlinewidth": 0,
              "ticks": ""
             }
            },
            "type": "scatterpolar"
           }
          ],
          "scatterpolargl": [
           {
            "marker": {
             "colorbar": {
              "outlinewidth": 0,
              "ticks": ""
             }
            },
            "type": "scatterpolargl"
           }
          ],
          "scatterternary": [
           {
            "marker": {
             "colorbar": {
              "outlinewidth": 0,
              "ticks": ""
             }
            },
            "type": "scatterternary"
           }
          ],
          "surface": [
           {
            "colorbar": {
             "outlinewidth": 0,
             "ticks": ""
            },
            "colorscale": [
             [
              0,
              "#0d0887"
             ],
             [
              0.1111111111111111,
              "#46039f"
             ],
             [
              0.2222222222222222,
              "#7201a8"
             ],
             [
              0.3333333333333333,
              "#9c179e"
             ],
             [
              0.4444444444444444,
              "#bd3786"
             ],
             [
              0.5555555555555556,
              "#d8576b"
             ],
             [
              0.6666666666666666,
              "#ed7953"
             ],
             [
              0.7777777777777778,
              "#fb9f3a"
             ],
             [
              0.8888888888888888,
              "#fdca26"
             ],
             [
              1,
              "#f0f921"
             ]
            ],
            "type": "surface"
           }
          ],
          "table": [
           {
            "cells": {
             "fill": {
              "color": "#EBF0F8"
             },
             "line": {
              "color": "white"
             }
            },
            "header": {
             "fill": {
              "color": "#C8D4E3"
             },
             "line": {
              "color": "white"
             }
            },
            "type": "table"
           }
          ]
         },
         "layout": {
          "annotationdefaults": {
           "arrowcolor": "#2a3f5f",
           "arrowhead": 0,
           "arrowwidth": 1
          },
          "autotypenumbers": "strict",
          "coloraxis": {
           "colorbar": {
            "outlinewidth": 0,
            "ticks": ""
           }
          },
          "colorscale": {
           "diverging": [
            [
             0,
             "#8e0152"
            ],
            [
             0.1,
             "#c51b7d"
            ],
            [
             0.2,
             "#de77ae"
            ],
            [
             0.3,
             "#f1b6da"
            ],
            [
             0.4,
             "#fde0ef"
            ],
            [
             0.5,
             "#f7f7f7"
            ],
            [
             0.6,
             "#e6f5d0"
            ],
            [
             0.7,
             "#b8e186"
            ],
            [
             0.8,
             "#7fbc41"
            ],
            [
             0.9,
             "#4d9221"
            ],
            [
             1,
             "#276419"
            ]
           ],
           "sequential": [
            [
             0,
             "#0d0887"
            ],
            [
             0.1111111111111111,
             "#46039f"
            ],
            [
             0.2222222222222222,
             "#7201a8"
            ],
            [
             0.3333333333333333,
             "#9c179e"
            ],
            [
             0.4444444444444444,
             "#bd3786"
            ],
            [
             0.5555555555555556,
             "#d8576b"
            ],
            [
             0.6666666666666666,
             "#ed7953"
            ],
            [
             0.7777777777777778,
             "#fb9f3a"
            ],
            [
             0.8888888888888888,
             "#fdca26"
            ],
            [
             1,
             "#f0f921"
            ]
           ],
           "sequentialminus": [
            [
             0,
             "#0d0887"
            ],
            [
             0.1111111111111111,
             "#46039f"
            ],
            [
             0.2222222222222222,
             "#7201a8"
            ],
            [
             0.3333333333333333,
             "#9c179e"
            ],
            [
             0.4444444444444444,
             "#bd3786"
            ],
            [
             0.5555555555555556,
             "#d8576b"
            ],
            [
             0.6666666666666666,
             "#ed7953"
            ],
            [
             0.7777777777777778,
             "#fb9f3a"
            ],
            [
             0.8888888888888888,
             "#fdca26"
            ],
            [
             1,
             "#f0f921"
            ]
           ]
          },
          "colorway": [
           "#636efa",
           "#EF553B",
           "#00cc96",
           "#ab63fa",
           "#FFA15A",
           "#19d3f3",
           "#FF6692",
           "#B6E880",
           "#FF97FF",
           "#FECB52"
          ],
          "font": {
           "color": "#2a3f5f"
          },
          "geo": {
           "bgcolor": "white",
           "lakecolor": "white",
           "landcolor": "#E5ECF6",
           "showlakes": true,
           "showland": true,
           "subunitcolor": "white"
          },
          "hoverlabel": {
           "align": "left"
          },
          "hovermode": "closest",
          "mapbox": {
           "style": "light"
          },
          "paper_bgcolor": "white",
          "plot_bgcolor": "#E5ECF6",
          "polar": {
           "angularaxis": {
            "gridcolor": "white",
            "linecolor": "white",
            "ticks": ""
           },
           "bgcolor": "#E5ECF6",
           "radialaxis": {
            "gridcolor": "white",
            "linecolor": "white",
            "ticks": ""
           }
          },
          "scene": {
           "xaxis": {
            "backgroundcolor": "#E5ECF6",
            "gridcolor": "white",
            "gridwidth": 2,
            "linecolor": "white",
            "showbackground": true,
            "ticks": "",
            "zerolinecolor": "white"
           },
           "yaxis": {
            "backgroundcolor": "#E5ECF6",
            "gridcolor": "white",
            "gridwidth": 2,
            "linecolor": "white",
            "showbackground": true,
            "ticks": "",
            "zerolinecolor": "white"
           },
           "zaxis": {
            "backgroundcolor": "#E5ECF6",
            "gridcolor": "white",
            "gridwidth": 2,
            "linecolor": "white",
            "showbackground": true,
            "ticks": "",
            "zerolinecolor": "white"
           }
          },
          "shapedefaults": {
           "line": {
            "color": "#2a3f5f"
           }
          },
          "ternary": {
           "aaxis": {
            "gridcolor": "white",
            "linecolor": "white",
            "ticks": ""
           },
           "baxis": {
            "gridcolor": "white",
            "linecolor": "white",
            "ticks": ""
           },
           "bgcolor": "#E5ECF6",
           "caxis": {
            "gridcolor": "white",
            "linecolor": "white",
            "ticks": ""
           }
          },
          "title": {
           "x": 0.05
          },
          "xaxis": {
           "automargin": true,
           "gridcolor": "white",
           "linecolor": "white",
           "ticks": "",
           "title": {
            "standoff": 15
           },
           "zerolinecolor": "white",
           "zerolinewidth": 2
          },
          "yaxis": {
           "automargin": true,
           "gridcolor": "white",
           "linecolor": "white",
           "ticks": "",
           "title": {
            "standoff": 15
           },
           "zerolinecolor": "white",
           "zerolinewidth": 2
          }
         }
        },
        "title": {
         "text": "Training and Validation Loss Over Epochs"
        },
        "xaxis": {
         "anchor": "y",
         "domain": [
          0,
          1
         ],
         "title": {
          "text": "Epochs"
         }
        },
        "yaxis": {
         "anchor": "x",
         "domain": [
          0,
          1
         ],
         "title": {
          "text": "value"
         }
        }
       }
      }
     },
     "metadata": {},
     "output_type": "display_data"
    }
   ],
   "source": [
    "# Example data for training and validation loss\n",
    "epochs = [1, 2, 3, 4]  # Example epoch numbers\n",
    "training_loss = [0.8, 0.6, 0.4, 0.3]  # Example training losses\n",
    "validation_loss = [0.9, 0.7, 0.5, 0.4]  # Example validation losses\n",
    "\n",
    "# Plotly: Training and Validation Loss\n",
    "fig = px.line(\n",
    "    x=epochs,\n",
    "    y=[training_loss, validation_loss],\n",
    "    labels={'x': \"Epochs\", 'y': \"Loss\"},\n",
    "    title=\"Training and Validation Loss Over Epochs\"\n",
    ")\n",
    "fig.add_scatter(x=epochs, y=training_loss, mode=\"lines+markers\", name=\"Training Loss\")\n",
    "fig.add_scatter(x=epochs, y=validation_loss, mode=\"lines+markers\", name=\"Validation Loss\")\n",
    "fig.show()"
   ]
  },
  {
   "cell_type": "code",
   "execution_count": 47,
   "metadata": {},
   "outputs": [
    {
     "data": {
      "image/png": "[encoded data removed]",
      "text/plain": [
       "<Figure size 1000x600 with 1 Axes>"
      ]
     },
     "metadata": {},
     "output_type": "display_data"
    },
    {
     "data": {
      "image/png": "[encoded data removed]",
      "text/plain": [
       "<Figure size 1000x600 with 1 Axes>"
      ]
     },
     "metadata": {},
     "output_type": "display_data"
    }
   ],
   "source": [
    "# Load the tokenizer\n",
    "tokenizer = GPT2Tokenizer.from_pretrained(\"gpt2\")\n",
    "\n",
    "# Assume `dialogue_dataset` is your dataset and contains tokenized input_ids\n",
    "# Flatten all tokenized input_ids into one list\n",
    "all_tokens = []\n",
    "for data in dialogue_dataset:\n",
    "    all_tokens.extend(data[\"input_ids\"].tolist())\n",
    "\n",
    "# Count the frequency of each token\n",
    "token_counts = Counter(all_tokens)\n",
    "# Define punctuation set and unwanted tokens\n",
    "punctuation_set = set(string.punctuation)\n",
    "unwanted_tokens = [\"|<endoftext>|\", \"<|endoftext|>\", \" \", \"▁\"]  # Include end-of-text, space, and similar tokens\n",
    "\n",
    "# Filter out punctuation, unwanted tokens, and empty tokens\n",
    "filtered_tokens = []\n",
    "filtered_counts = []\n",
    "for token, count in token_counts.most_common(20):  # Get top 20 tokens\n",
    "    token_text = tokenizer.decode([token]).strip()\n",
    "    if (\n",
    "        token_text not in punctuation_set\n",
    "        and token_text not in unwanted_tokens\n",
    "        and token_text\n",
    "    ):\n",
    "        filtered_tokens.append(token)\n",
    "        filtered_counts.append(count)\n",
    "\n",
    "# Map filtered token IDs to text\n",
    "filtered_token_texts = [tokenizer.decode([token]).strip() for token in filtered_tokens]\n",
    "\n",
    "# Plot the bar chart with log scale for filtered tokens\n",
    "plt.figure(figsize=(10, 6))\n",
    "plt.bar(filtered_token_texts, filtered_counts, color=\"blue\", alpha=0.7)\n",
    "plt.yscale(\"log\")  # Use log scale for better readability\n",
    "plt.xticks(rotation=45)  # Rotate x-axis labels for better readability\n",
    "plt.title(\"Top 20 Most Frequent Tokens (Log Scale)\")\n",
    "plt.xlabel(\"Token\")\n",
    "plt.ylabel(\"Log Frequency\")\n",
    "plt.tight_layout()  # Adjust layout to prevent clipping of labels\n",
    "plt.show()\n",
    "\n",
    "# Normalize counts to percentages\n",
    "total_count = sum(filtered_counts)\n",
    "normalized_counts = [count / total_count * 100 for count in filtered_counts]\n",
    "\n",
    "# Plot normalized percentages\n",
    "plt.figure(figsize=(10, 6))\n",
    "plt.bar(filtered_token_texts, normalized_counts, color=\"blue\", alpha=0.7)\n",
    "plt.title(\"Top 20 Most Frequent Tokens (Unnormalized)\")\n",
    "plt.xlabel(\"Token\")\n",
    "plt.ylabel(\"Percentage\")\n",
    "plt.xticks(rotation=45)\n",
    "plt.tight_layout()\n",
    "plt.show()\n"
   ]
  }
 ],
 "metadata": {
  "kernelspec": {
   "display_name": "venv-ml",
   "language": "python",
   "name": "python3"
  },
  "language_info": {
   "codemirror_mode": {
    "name": "ipython",
    "version": 3
   },
   "file_extension": ".py",
   "mimetype": "text/x-python",
   "name": "python",
   "nbconvert_exporter": "python",
   "pygments_lexer": "ipython3",
   "version": "3.10.14"
  }
 },
 "nbformat": 4,
 "nbformat_minor": 2
}
